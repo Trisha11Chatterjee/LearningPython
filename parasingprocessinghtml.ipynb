{
  "nbformat": 4,
  "nbformat_minor": 0,
  "metadata": {
    "colab": {
      "provenance": []
    },
    "kernelspec": {
      "name": "python3",
      "display_name": "Python 3"
    },
    "language_info": {
      "name": "python"
    }
  },
  "cells": [
    {
      "cell_type": "code",
      "execution_count": 2,
      "metadata": {
        "colab": {
          "base_uri": "https://localhost:8080/"
        },
        "id": "9o7CxmVP4lyq",
        "outputId": "4b46a63a-bcf0-471e-a4da-422f2986d458"
      },
      "outputs": [
        {
          "output_type": "stream",
          "name": "stdout",
          "text": [
            "Encountered a start tag: html\n",
            "\tAt line:  2  position  0\n",
            "\tAttributes:\n",
            "\t lang = en\n",
            "Encountered a start tag: head\n",
            "\tAt line:  3  position  2\n",
            "Encountered a start tag: title\n",
            "\tAt line:  4  position  4\n",
            "Encountered some text data: Sample HTML Document\n",
            "\tAt line:  4  position  11\n",
            "Encountered a start tag: body\n",
            "\tAt line:  6  position  2\n",
            "Encountered comment:  This is a comment \n",
            "\tAt line:  7  position  4\n",
            "Encountered a start tag: h1\n",
            "\tAt line:  8  position  4\n",
            "Encountered some text data: HTML Sample File\n",
            "\tAt line:  8  position  8\n",
            "Encountered a start tag: p\n",
            "\tAt line:  9  position  4\n",
            "Encountered some text data: This is some text\n",
            "\tAt line:  9  position  7\n",
            "Encountered a start tag: p\n",
            "\tAt line:  10  position  4\n",
            "Encountered a start tag: a\n",
            "\tAt line:  10  position  7\n",
            "\tAttributes:\n",
            "\t href = /contact\n",
            "Encountered some text data: Contact\n",
            "\tAt line:  10  position  26\n",
            "Paragraph tags: 2\n"
          ]
        }
      ],
      "source": [
        "#\n",
        "# Example file for parsing and processing HTML\n",
        "# LinkedIn Learning Python course by Joe Marini\n",
        "#\n",
        "\n",
        "# import the HTMLParser module\n",
        "# in Python 3 you need to import from html.parser\n",
        "from html.parser import HTMLParser\n",
        "\n",
        "paragraphs = 0\n",
        "\n",
        "# create a subclass of HTMLParser and override the handler methods\n",
        "class MyHTMLParser(HTMLParser):\n",
        "    # function to handle an opening tag in the doc\n",
        "    # this will be called when the closing \">\" of the tag is reached\n",
        "    def handle_starttag(self, tag, attrs):\n",
        "        global paragraphs\n",
        "        if tag == \"p\":\n",
        "            paragraphs += 1\n",
        "\n",
        "        print (\"Encountered a start tag:\", tag)\n",
        "        pos = self.getpos() # returns a tuple indication line and character\n",
        "        print (\"\\tAt line: \", pos[0], \" position \", pos[1])\n",
        "\n",
        "        if attrs.__len__() > 0:\n",
        "            print (\"\\tAttributes:\")\n",
        "            for a in attrs:\n",
        "                print (\"\\t\", a[0],\"=\",a[1])\n",
        "\n",
        "    # function to handle character and text data (tag contents)\n",
        "    def handle_data(self, data):\n",
        "        if (data.isspace()):\n",
        "            return\n",
        "        print (\"Encountered some text data:\", data)\n",
        "        pos = self.getpos()\n",
        "        print (\"\\tAt line: \", pos[0], \" position \", pos[1])\n",
        "\n",
        "    # function to handle the processing of HTML comments\n",
        "    def handle_comment(self, data):\n",
        "        print (\"Encountered comment:\", data)\n",
        "        pos = self.getpos()\n",
        "        print (\"\\tAt line: \", pos[0], \" position \", pos[1])\n",
        "\n",
        "def main():\n",
        "    # instantiate the parser and feed it some HTML\n",
        "    parser = MyHTMLParser()\n",
        "\n",
        "    # open the sample HTML file and read it\n",
        "    f = open(\"/content/404notfound.html\")\n",
        "    if f.mode == \"r\":\n",
        "        contents = f.read() # read the entire file\n",
        "        parser.feed(contents)\n",
        "\n",
        "    print (\"Paragraph tags:\", paragraphs)\n",
        "\n",
        "if __name__ == \"__main__\":\n",
        "    main()\n",
        ""
      ]
    }
  ]
}